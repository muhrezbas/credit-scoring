{
 "cells": [
  {
   "cell_type": "code",
   "execution_count": null,
   "metadata": {
    "collapsed": true
   },
   "outputs": [],
   "source": [
    "import pickle\n",
    "import numpy as np\n",
    "import pandas as pd\n",
    "from sklearn.ensemble import RandomForestClassifier\n",
    "from sklearn.preprocessing import OneHotEncoder\n",
    "from imblearn.over_sampling import SMOTE\n",
    "\n",
    "# Load data and save indices of columns\n",
    "df = pd.read_csv(\"data.csv\")\n",
    "features = df.drop(columns=['Label'])\n",
    "pickle.dump(features, open('features.pickle', 'wb'))\n",
    "\n",
    "# Fit and save an OneHotEncoder\n",
    "columns_to_fit = ['live_province', 'live_city', 'bank']\n",
    "enc = OneHotEncoder(sparse=False).fit(df.loc[:, columns_to_fit])\n",
    "pickle.dump(enc, open('encoder.pickle', 'wb'))\n",
    "\n",
    "# Transform variables, merge with existing df and keep column names\n",
    "column_names = enc.get_feature_names(columns_to_fit)\n",
    "encoded_variables = pd.DataFrame(enc.transform(df.loc[:, columns_to_fit]), columns=column_names)\n",
    "df = df.drop(columns_to_fit, 1)\n",
    "df = pd.concat([df, encoded_variables], axis=1)\n",
    "    \n",
    "# Resampling data\n",
    "y = df.Label\n",
    "X = df.drop('Label', axis=1)\n",
    "sm = SMOTE(random_state=27, sampling_strategy=1.0)\n",
    "X, y = sm.fit_sample(X, y)\n",
    "\n",
    "\n",
    "# Fit and save model\n",
    "clf = RandomForestClassifier(bootstrap=True, ccp_alpha=0.0,\n",
    "                                              class_weight=None,\n",
    "                                              criterion='gini', max_depth=None,\n",
    "                                              max_features='auto',\n",
    "                                              max_leaf_nodes=None,\n",
    "                                              max_samples=None,\n",
    "                                              min_impurity_decrease=0.0,\n",
    "                                              min_impurity_split=None,\n",
    "                                              min_samples_leaf=1,\n",
    "                                              min_samples_split=2,\n",
    "                                              min_weight_fraction_leaf=0.0,\n",
    "                                              n_estimators=100, n_jobs=None,\n",
    "                                              oob_score=False,\n",
    "                                              random_state=None, verbose=0,\n",
    "                                              warm_start=False).fit(X, y)\n",
    "pickle.dump(clf, open('model.pickle', 'wb'))"
   ]
  }
 ],
 "metadata": {
  "kernelspec": {
   "display_name": "Python 3",
   "language": "python",
   "name": "python3"
  },
  "language_info": {
   "codemirror_mode": {
    "name": "ipython",
    "version": 3
   },
   "file_extension": ".py",
   "mimetype": "text/x-python",
   "name": "python",
   "nbconvert_exporter": "python",
   "pygments_lexer": "ipython3",
   "version": "3.7.6"
  }
 },
 "nbformat": 4,
 "nbformat_minor": 1
}